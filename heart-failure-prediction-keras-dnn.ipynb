{
 "cells": [
  {
   "cell_type": "markdown",
   "id": "882adc42",
   "metadata": {},
   "source": [
    "## DNN Model for Heart Failure Prediction\n",
    "Deep Neural Network with 1 hidden layer. \n",
    "  \n",
    "Oishik Mukhopadhyay, 31 October, 2021"
   ]
  },
  {
   "cell_type": "code",
   "execution_count": 29,
   "id": "74730ce5",
   "metadata": {},
   "outputs": [],
   "source": [
    "from tensorflow.keras.models import Sequential\n",
    "from tensorflow.keras.layers import Dense\n",
    "from tensorflow.keras.utils import to_categorical\n",
    "from matplotlib import pyplot as plt\n",
    "from random import shuffle"
   ]
  },
  {
   "cell_type": "code",
   "execution_count": 30,
   "id": "78e50406",
   "metadata": {},
   "outputs": [],
   "source": [
    "import numpy as np"
   ]
  },
  {
   "cell_type": "code",
   "execution_count": 31,
   "id": "542e6986",
   "metadata": {},
   "outputs": [],
   "source": [
    "heart = np.load('heart-failure-prediction/etl_heart.npy')"
   ]
  },
  {
   "cell_type": "code",
   "execution_count": 32,
   "id": "705d5f74",
   "metadata": {},
   "outputs": [],
   "source": [
    "shuffle(heart)"
   ]
  },
  {
   "cell_type": "code",
   "execution_count": 33,
   "id": "20937b31",
   "metadata": {},
   "outputs": [
    {
     "name": "stdout",
     "output_type": "stream",
     "text": [
      "918 12\n"
     ]
    }
   ],
   "source": [
    "print(len(heart), len(heart[0]))"
   ]
  },
  {
   "cell_type": "code",
   "execution_count": 34,
   "id": "65f4f2a9",
   "metadata": {},
   "outputs": [],
   "source": [
    "X = np.array(heart[:,:-1])\n",
    "y = np.array(heart[:, -1])"
   ]
  },
  {
   "cell_type": "code",
   "execution_count": 35,
   "id": "fcb57d5c",
   "metadata": {},
   "outputs": [],
   "source": [
    "y = to_categorical(y)"
   ]
  },
  {
   "cell_type": "code",
   "execution_count": 36,
   "id": "4ef983f5",
   "metadata": {},
   "outputs": [],
   "source": [
    "model = Sequential(\n",
    "    [\n",
    "        Dense(11, input_dim=11, activation='sigmoid'),\n",
    "        Dense(11, activation='sigmoid'),\n",
    "        Dense(2, activation='softmax')\n",
    "    ]\n",
    ")"
   ]
  },
  {
   "cell_type": "code",
   "execution_count": 37,
   "id": "8572bbe2",
   "metadata": {},
   "outputs": [],
   "source": [
    "model.compile(loss='categorical_crossentropy', optimizer='Adam', metrics=['acc'])"
   ]
  },
  {
   "cell_type": "code",
   "execution_count": 38,
   "id": "2cc59da5",
   "metadata": {},
   "outputs": [
    {
     "name": "stdout",
     "output_type": "stream",
     "text": [
      "Model: \"sequential_2\"\n",
      "_________________________________________________________________\n",
      "Layer (type)                 Output Shape              Param #   \n",
      "=================================================================\n",
      "dense_6 (Dense)              (None, 11)                132       \n",
      "_________________________________________________________________\n",
      "dense_7 (Dense)              (None, 11)                132       \n",
      "_________________________________________________________________\n",
      "dense_8 (Dense)              (None, 2)                 24        \n",
      "=================================================================\n",
      "Total params: 288\n",
      "Trainable params: 288\n",
      "Non-trainable params: 0\n",
      "_________________________________________________________________\n"
     ]
    }
   ],
   "source": [
    "model.summary()"
   ]
  },
  {
   "cell_type": "code",
   "execution_count": 39,
   "id": "ee7afc8d",
   "metadata": {},
   "outputs": [],
   "source": [
    "history = model.fit(X, y, epochs=50, verbose=0, validation_split=0.1)"
   ]
  },
  {
   "cell_type": "code",
   "execution_count": 40,
   "id": "4b3caf61",
   "metadata": {},
   "outputs": [
    {
     "data": {
      "image/png": "[encoded data removed]",
      "text/plain": [
       "<Figure size 432x288 with 1 Axes>"
      ]
     },
     "metadata": {
      "needs_background": "light"
     },
     "output_type": "display_data"
    },
    {
     "data": {
      "image/png": "[encoded data removed]",
      "text/plain": [
       "<Figure size 432x288 with 1 Axes>"
      ]
     },
     "metadata": {
      "needs_background": "light"
     },
     "output_type": "display_data"
    }
   ],
   "source": [
    "# summarize history for acc\n",
    "plt.plot(history.history['acc'])\n",
    "plt.plot(history.history['val_acc'])\n",
    "plt.title('model accuracy')\n",
    "plt.ylabel('accuracy')\n",
    "plt.xlabel('epoch')\n",
    "plt.legend(['train', 'test'], loc='lower right')\n",
    "plt.show()\n",
    "# summarize history for loss\n",
    "plt.plot(history.history['loss'])\n",
    "plt.plot(history.history['val_loss'])\n",
    "plt.title('model loss')\n",
    "plt.ylabel('loss')\n",
    "plt.xlabel('epoch')\n",
    "plt.legend(['train', 'test'], loc='upper right')\n",
    "plt.show()"
   ]
  },
  {
   "cell_type": "code",
   "execution_count": 41,
   "id": "492dc8a4",
   "metadata": {},
   "outputs": [
    {
     "name": "stdout",
     "output_type": "stream",
     "text": [
      "Max val_acc achieved: 94.57 %\n",
      "Max acc achieved: 92.86 %\n"
     ]
    }
   ],
   "source": [
    "print('Max val_acc achieved: %.2f' %(max(history.history['val_acc'])*100), '%')\n",
    "print('Max acc achieved: %.2f' %(max(history.history['acc'])*100), '%')"
   ]
  },
  {
   "cell_type": "code",
   "execution_count": 42,
   "id": "3b34bd10",
   "metadata": {},
   "outputs": [
    {
     "name": "stdout",
     "output_type": "stream",
     "text": [
      "Final val_acc achieved: 94.57 %\n",
      "Final acc achieved: 92.13 %\n"
     ]
    }
   ],
   "source": [
    "print('Final val_acc achieved: %.2f' %(history.history['val_acc'][-1]*100), '%')\n",
    "print('Final acc achieved: %.2f' %(history.history['acc'][-1]*100), '%')"
   ]
  }
 ],
 "metadata": {
  "kernelspec": {
   "display_name": "Python 3",
   "language": "python",
   "name": "python3"
  },
  "language_info": {
   "codemirror_mode": {
    "name": "ipython",
    "version": 3
   },
   "file_extension": ".py",
   "mimetype": "text/x-python",
   "name": "python",
   "nbconvert_exporter": "python",
   "pygments_lexer": "ipython3",
   "version": "3.6.13"
  }
 },
 "nbformat": 4,
 "nbformat_minor": 5
}
