{
 "cells": [
  {
   "cell_type": "markdown",
   "id": "d5f9609d",
   "metadata": {},
   "source": [
    "## EDA for heart-failure-prediction\n",
    "Dataset Credit: https://www.kaggle.com/fedesoriano/heart-failure-prediction \n",
    "  \n",
    "Oishik Mukhopadhyay, 31 October, 2021"
   ]
  },
  {
   "cell_type": "code",
   "execution_count": 55,
   "id": "4ef41118",
   "metadata": {},
   "outputs": [],
   "source": [
    "import opendatasets as od"
   ]
  },
  {
   "cell_type": "code",
   "execution_count": 56,
   "id": "5e0ea50e",
   "metadata": {
    "scrolled": false
   },
   "outputs": [
    {
     "name": "stdout",
     "output_type": "stream",
     "text": [
      "Skipping, found downloaded files in \"./heart-failure-prediction\" (use force=True to force download)\n"
     ]
    }
   ],
   "source": [
    "od.download('https://www.kaggle.com/fedesoriano/heart-failure-prediction')"
   ]
  },
  {
   "cell_type": "code",
   "execution_count": 87,
   "id": "6a4f6326",
   "metadata": {},
   "outputs": [],
   "source": [
    "import pandas as pd\n",
    "import numpy as np"
   ]
  },
  {
   "cell_type": "code",
   "execution_count": 58,
   "id": "e6d39833",
   "metadata": {},
   "outputs": [],
   "source": [
    "dataset = pd.read_csv('heart-failure-prediction/heart.csv')"
   ]
  },
  {
   "cell_type": "code",
   "execution_count": 59,
   "id": "ab8f739a",
   "metadata": {},
   "outputs": [
    {
     "data": {
      "text/html": [
       "<div>\n",
       "<style scoped>\n",
       "    .dataframe tbody tr th:only-of-type {\n",
       "        vertical-align: middle;\n",
       "    }\n",
       "\n",
       "    .dataframe tbody tr th {\n",
       "        vertical-align: top;\n",
       "    }\n",
       "\n",
       "    .dataframe thead th {\n",
       "        text-align: right;\n",
       "    }\n",
       "</style>\n",
       "<table border=\"1\" class=\"dataframe\">\n",
       "  <thead>\n",
       "    <tr style=\"text-align: right;\">\n",
       "      <th></th>\n",
       "      <th>Age</th>\n",
       "      <th>Sex</th>\n",
       "      <th>ChestPainType</th>\n",
       "      <th>RestingBP</th>\n",
       "      <th>Cholesterol</th>\n",
       "      <th>FastingBS</th>\n",
       "      <th>RestingECG</th>\n",
       "      <th>MaxHR</th>\n",
       "      <th>ExerciseAngina</th>\n",
       "      <th>Oldpeak</th>\n",
       "      <th>ST_Slope</th>\n",
       "      <th>HeartDisease</th>\n",
       "    </tr>\n",
       "  </thead>\n",
       "  <tbody>\n",
       "    <tr>\n",
       "      <th>0</th>\n",
       "      <td>40</td>\n",
       "      <td>M</td>\n",
       "      <td>ATA</td>\n",
       "      <td>140</td>\n",
       "      <td>289</td>\n",
       "      <td>0</td>\n",
       "      <td>Normal</td>\n",
       "      <td>172</td>\n",
       "      <td>N</td>\n",
       "      <td>0.0</td>\n",
       "      <td>Up</td>\n",
       "      <td>0</td>\n",
       "    </tr>\n",
       "    <tr>\n",
       "      <th>1</th>\n",
       "      <td>49</td>\n",
       "      <td>F</td>\n",
       "      <td>NAP</td>\n",
       "      <td>160</td>\n",
       "      <td>180</td>\n",
       "      <td>0</td>\n",
       "      <td>Normal</td>\n",
       "      <td>156</td>\n",
       "      <td>N</td>\n",
       "      <td>1.0</td>\n",
       "      <td>Flat</td>\n",
       "      <td>1</td>\n",
       "    </tr>\n",
       "    <tr>\n",
       "      <th>2</th>\n",
       "      <td>37</td>\n",
       "      <td>M</td>\n",
       "      <td>ATA</td>\n",
       "      <td>130</td>\n",
       "      <td>283</td>\n",
       "      <td>0</td>\n",
       "      <td>ST</td>\n",
       "      <td>98</td>\n",
       "      <td>N</td>\n",
       "      <td>0.0</td>\n",
       "      <td>Up</td>\n",
       "      <td>0</td>\n",
       "    </tr>\n",
       "    <tr>\n",
       "      <th>3</th>\n",
       "      <td>48</td>\n",
       "      <td>F</td>\n",
       "      <td>ASY</td>\n",
       "      <td>138</td>\n",
       "      <td>214</td>\n",
       "      <td>0</td>\n",
       "      <td>Normal</td>\n",
       "      <td>108</td>\n",
       "      <td>Y</td>\n",
       "      <td>1.5</td>\n",
       "      <td>Flat</td>\n",
       "      <td>1</td>\n",
       "    </tr>\n",
       "    <tr>\n",
       "      <th>4</th>\n",
       "      <td>54</td>\n",
       "      <td>M</td>\n",
       "      <td>NAP</td>\n",
       "      <td>150</td>\n",
       "      <td>195</td>\n",
       "      <td>0</td>\n",
       "      <td>Normal</td>\n",
       "      <td>122</td>\n",
       "      <td>N</td>\n",
       "      <td>0.0</td>\n",
       "      <td>Up</td>\n",
       "      <td>0</td>\n",
       "    </tr>\n",
       "  </tbody>\n",
       "</table>\n",
       "</div>"
      ],
      "text/plain": [
       "   Age Sex ChestPainType  RestingBP  Cholesterol  FastingBS RestingECG  MaxHR  \\\n",
       "0   40   M           ATA        140          289          0     Normal    172   \n",
       "1   49   F           NAP        160          180          0     Normal    156   \n",
       "2   37   M           ATA        130          283          0         ST     98   \n",
       "3   48   F           ASY        138          214          0     Normal    108   \n",
       "4   54   M           NAP        150          195          0     Normal    122   \n",
       "\n",
       "  ExerciseAngina  Oldpeak ST_Slope  HeartDisease  \n",
       "0              N      0.0       Up             0  \n",
       "1              N      1.0     Flat             1  \n",
       "2              N      0.0       Up             0  \n",
       "3              Y      1.5     Flat             1  \n",
       "4              N      0.0       Up             0  "
      ]
     },
     "execution_count": 59,
     "metadata": {},
     "output_type": "execute_result"
    }
   ],
   "source": [
    "dataset.head()\n",
    "# HeartDisease key- 1: Disease, 0: Normal"
   ]
  },
  {
   "cell_type": "code",
   "execution_count": 60,
   "id": "3a2113af",
   "metadata": {},
   "outputs": [
    {
     "data": {
      "text/plain": [
       "array(['ATA', 'NAP', 'ASY', 'TA'], dtype=object)"
      ]
     },
     "execution_count": 60,
     "metadata": {},
     "output_type": "execute_result"
    }
   ],
   "source": [
    "dataset['ChestPainType'].unique()"
   ]
  },
  {
   "cell_type": "code",
   "execution_count": 61,
   "id": "f4f29f89",
   "metadata": {},
   "outputs": [
    {
     "data": {
      "text/plain": [
       "array(['Normal', 'ST', 'LVH'], dtype=object)"
      ]
     },
     "execution_count": 61,
     "metadata": {},
     "output_type": "execute_result"
    }
   ],
   "source": [
    "dataset['RestingECG'].unique()"
   ]
  },
  {
   "cell_type": "code",
   "execution_count": 62,
   "id": "68cbc34f",
   "metadata": {},
   "outputs": [
    {
     "data": {
      "text/plain": [
       "array(['Up', 'Flat', 'Down'], dtype=object)"
      ]
     },
     "execution_count": 62,
     "metadata": {},
     "output_type": "execute_result"
    }
   ],
   "source": [
    "dataset['ST_Slope'].unique()"
   ]
  },
  {
   "cell_type": "code",
   "execution_count": 63,
   "id": "fd3261fc",
   "metadata": {},
   "outputs": [],
   "source": [
    "dataset.replace({'Sex': {'M':0, 'F':1}, \n",
    "                 'ChestPainType': {'ATA':0, 'NAP':1, 'ASY':2, 'TA':3}, \n",
    "                 'RestingECG': {'Normal':0, 'ST':1, 'LVH':2}, \n",
    "                 'ExerciseAngina': {'N':0, 'Y':1},\n",
    "                 'ST_Slope': {'Up':0, 'Flat':1, 'Down':1}\n",
    "                }, inplace=True)"
   ]
  },
  {
   "cell_type": "code",
   "execution_count": 64,
   "id": "23185d16",
   "metadata": {},
   "outputs": [
    {
     "data": {
      "text/html": [
       "<div>\n",
       "<style scoped>\n",
       "    .dataframe tbody tr th:only-of-type {\n",
       "        vertical-align: middle;\n",
       "    }\n",
       "\n",
       "    .dataframe tbody tr th {\n",
       "        vertical-align: top;\n",
       "    }\n",
       "\n",
       "    .dataframe thead th {\n",
       "        text-align: right;\n",
       "    }\n",
       "</style>\n",
       "<table border=\"1\" class=\"dataframe\">\n",
       "  <thead>\n",
       "    <tr style=\"text-align: right;\">\n",
       "      <th></th>\n",
       "      <th>Age</th>\n",
       "      <th>Sex</th>\n",
       "      <th>ChestPainType</th>\n",
       "      <th>RestingBP</th>\n",
       "      <th>Cholesterol</th>\n",
       "      <th>FastingBS</th>\n",
       "      <th>RestingECG</th>\n",
       "      <th>MaxHR</th>\n",
       "      <th>ExerciseAngina</th>\n",
       "      <th>Oldpeak</th>\n",
       "      <th>ST_Slope</th>\n",
       "      <th>HeartDisease</th>\n",
       "    </tr>\n",
       "  </thead>\n",
       "  <tbody>\n",
       "    <tr>\n",
       "      <th>0</th>\n",
       "      <td>40</td>\n",
       "      <td>0</td>\n",
       "      <td>0</td>\n",
       "      <td>140</td>\n",
       "      <td>289</td>\n",
       "      <td>0</td>\n",
       "      <td>0</td>\n",
       "      <td>172</td>\n",
       "      <td>0</td>\n",
       "      <td>0.0</td>\n",
       "      <td>0</td>\n",
       "      <td>0</td>\n",
       "    </tr>\n",
       "    <tr>\n",
       "      <th>1</th>\n",
       "      <td>49</td>\n",
       "      <td>1</td>\n",
       "      <td>1</td>\n",
       "      <td>160</td>\n",
       "      <td>180</td>\n",
       "      <td>0</td>\n",
       "      <td>0</td>\n",
       "      <td>156</td>\n",
       "      <td>0</td>\n",
       "      <td>1.0</td>\n",
       "      <td>1</td>\n",
       "      <td>1</td>\n",
       "    </tr>\n",
       "    <tr>\n",
       "      <th>2</th>\n",
       "      <td>37</td>\n",
       "      <td>0</td>\n",
       "      <td>0</td>\n",
       "      <td>130</td>\n",
       "      <td>283</td>\n",
       "      <td>0</td>\n",
       "      <td>1</td>\n",
       "      <td>98</td>\n",
       "      <td>0</td>\n",
       "      <td>0.0</td>\n",
       "      <td>0</td>\n",
       "      <td>0</td>\n",
       "    </tr>\n",
       "    <tr>\n",
       "      <th>3</th>\n",
       "      <td>48</td>\n",
       "      <td>1</td>\n",
       "      <td>2</td>\n",
       "      <td>138</td>\n",
       "      <td>214</td>\n",
       "      <td>0</td>\n",
       "      <td>0</td>\n",
       "      <td>108</td>\n",
       "      <td>1</td>\n",
       "      <td>1.5</td>\n",
       "      <td>1</td>\n",
       "      <td>1</td>\n",
       "    </tr>\n",
       "    <tr>\n",
       "      <th>4</th>\n",
       "      <td>54</td>\n",
       "      <td>0</td>\n",
       "      <td>1</td>\n",
       "      <td>150</td>\n",
       "      <td>195</td>\n",
       "      <td>0</td>\n",
       "      <td>0</td>\n",
       "      <td>122</td>\n",
       "      <td>0</td>\n",
       "      <td>0.0</td>\n",
       "      <td>0</td>\n",
       "      <td>0</td>\n",
       "    </tr>\n",
       "  </tbody>\n",
       "</table>\n",
       "</div>"
      ],
      "text/plain": [
       "   Age  Sex  ChestPainType  RestingBP  Cholesterol  FastingBS  RestingECG  \\\n",
       "0   40    0              0        140          289          0           0   \n",
       "1   49    1              1        160          180          0           0   \n",
       "2   37    0              0        130          283          0           1   \n",
       "3   48    1              2        138          214          0           0   \n",
       "4   54    0              1        150          195          0           0   \n",
       "\n",
       "   MaxHR  ExerciseAngina  Oldpeak  ST_Slope  HeartDisease  \n",
       "0    172               0      0.0         0             0  \n",
       "1    156               0      1.0         1             1  \n",
       "2     98               0      0.0         0             0  \n",
       "3    108               1      1.5         1             1  \n",
       "4    122               0      0.0         0             0  "
      ]
     },
     "execution_count": 64,
     "metadata": {},
     "output_type": "execute_result"
    }
   ],
   "source": [
    "dataset.head()"
   ]
  },
  {
   "cell_type": "code",
   "execution_count": 78,
   "id": "4448cffd",
   "metadata": {},
   "outputs": [],
   "source": [
    "nparr = dataset.to_numpy()"
   ]
  },
  {
   "cell_type": "code",
   "execution_count": 83,
   "id": "901bb5c3",
   "metadata": {},
   "outputs": [
    {
     "name": "stdout",
     "output_type": "stream",
     "text": [
      "[[ 40.    0.    0.  140.  289.    0.    0.  172.    0.    0.    0.    0. ]\n",
      " [ 49.    1.    1.  160.  180.    0.    0.  156.    0.    1.    1.    1. ]\n",
      " [ 37.    0.    0.  130.  283.    0.    1.   98.    0.    0.    0.    0. ]\n",
      " [ 48.    1.    2.  138.  214.    0.    0.  108.    1.    1.5   1.    1. ]\n",
      " [ 54.    0.    1.  150.  195.    0.    0.  122.    0.    0.    0.    0. ]\n",
      " [ 39.    0.    1.  120.  339.    0.    0.  170.    0.    0.    0.    0. ]\n",
      " [ 45.    1.    0.  130.  237.    0.    0.  170.    0.    0.    0.    0. ]\n",
      " [ 54.    0.    0.  110.  208.    0.    0.  142.    0.    0.    0.    0. ]\n",
      " [ 37.    0.    2.  140.  207.    0.    0.  130.    1.    1.5   1.    1. ]\n",
      " [ 48.    1.    0.  120.  284.    0.    0.  120.    0.    0.    0.    0. ]]\n"
     ]
    }
   ],
   "source": [
    "print(nparr[:10])"
   ]
  },
  {
   "cell_type": "code",
   "execution_count": 85,
   "id": "15b1d803",
   "metadata": {},
   "outputs": [],
   "source": [
    "nparr[:,0]/=max(nparr[:,0]) # Age\n",
    "nparr[:,3]/=max(nparr[:,3]) # RestingBP\n",
    "nparr[:,4]/=max(nparr[:,4]) # Cholesterol\n",
    "nparr[:,7]/=max(nparr[:,7]) # MaxHR\n",
    "nparr[:,9]/=max(nparr[:,9]) # OldPeak"
   ]
  },
  {
   "cell_type": "code",
   "execution_count": 86,
   "id": "ef25e638",
   "metadata": {},
   "outputs": [
    {
     "name": "stdout",
     "output_type": "stream",
     "text": [
      "[[0.51948052 0.         0.         0.7        0.47927032 0.\n",
      "  0.         0.85148515 0.         0.         0.         0.        ]\n",
      " [0.63636364 1.         1.         0.8        0.29850746 0.\n",
      "  0.         0.77227723 0.         0.16129032 1.         1.        ]\n",
      " [0.48051948 0.         0.         0.65       0.46932007 0.\n",
      "  1.         0.48514851 0.         0.         0.         0.        ]\n",
      " [0.62337662 1.         2.         0.69       0.35489221 0.\n",
      "  0.         0.53465347 1.         0.24193548 1.         1.        ]\n",
      " [0.7012987  0.         1.         0.75       0.32338308 0.\n",
      "  0.         0.6039604  0.         0.         0.         0.        ]\n",
      " [0.50649351 0.         1.         0.6        0.56218905 0.\n",
      "  0.         0.84158416 0.         0.         0.         0.        ]\n",
      " [0.58441558 1.         0.         0.65       0.39303483 0.\n",
      "  0.         0.84158416 0.         0.         0.         0.        ]\n",
      " [0.7012987  0.         0.         0.55       0.34494196 0.\n",
      "  0.         0.7029703  0.         0.         0.         0.        ]\n",
      " [0.48051948 0.         2.         0.7        0.34328358 0.\n",
      "  0.         0.64356436 1.         0.24193548 1.         1.        ]\n",
      " [0.62337662 1.         0.         0.6        0.47097844 0.\n",
      "  0.         0.59405941 0.         0.         0.         0.        ]]\n"
     ]
    }
   ],
   "source": [
    "print(nparr[:10])"
   ]
  },
  {
   "cell_type": "code",
   "execution_count": 91,
   "id": "fd7e3691",
   "metadata": {},
   "outputs": [],
   "source": [
    "np.save('heart-failure-prediction/etl_heart.npy', nparr, allow_pickle=True)"
   ]
  }
 ],
 "metadata": {
  "kernelspec": {
   "display_name": "Python 3",
   "language": "python",
   "name": "python3"
  },
  "language_info": {
   "codemirror_mode": {
    "name": "ipython",
    "version": 3
   },
   "file_extension": ".py",
   "mimetype": "text/x-python",
   "name": "python",
   "nbconvert_exporter": "python",
   "pygments_lexer": "ipython3",
   "version": "3.6.13"
  }
 },
 "nbformat": 4,
 "nbformat_minor": 5
}
